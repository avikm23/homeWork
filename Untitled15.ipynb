{
 "cells": [
  {
   "cell_type": "code",
   "execution_count": 1,
   "metadata": {},
   "outputs": [
    {
     "name": "stdout",
     "output_type": "stream",
     "text": [
      "83\n",
      "Choose Value From 1 To 10088\n",
      "cold\n",
      "Choose Value From 1 To 10083\n",
      "Perfect Choose\n"
     ]
    }
   ],
   "source": [
    "from random import randint\n",
    "\n",
    "randomVal=randint(1, 100)\n",
    "val = int(input(\"Choose Value From 1 To 100\"))\n",
    "oldVal=0\n",
    "\n",
    "if(val < 1 or val > 100):\n",
    "    print(\"Value is out of range\")\n",
    "elif(randomVal == val):\n",
    "    print(\"Perfect Choose\")\n",
    "    \n",
    "elif(randomVal > val):\n",
    "    oldVal = val\n",
    "    print(\"warm\")\n",
    "elif(randomVal < val):\n",
    "    oldVal = val\n",
    "    print(\"cold\")\n",
    "else :\n",
    "    print(\"Somethings is wrong\")\n",
    "    \n",
    "while True :\n",
    "    val = int(input(\"Choose Value From 1 To 100\"))\n",
    "    if(val < 1 or val > 100):\n",
    "        print(\"Value is out of range\")\n",
    "    elif(randomVal == val):\n",
    "        print(\"Perfect Choose\")\n",
    "        break\n",
    "    elif(randomVal > val):\n",
    "       \n",
    "        if(val > oldVal):\n",
    "            print(\"warmer\")\n",
    "        else:    \n",
    "            print(\"warm\")\n",
    "        \n",
    "        oldVal = val \n",
    "            \n",
    "    elif(randomVal < val):\n",
    "        \n",
    "        \n",
    "        if(val < oldVal):\n",
    "            print(\"coldest\")\n",
    "        else:    \n",
    "            print(\"cold\")\n",
    "        \n",
    "        oldVal = val    \n",
    "        \n",
    "    else :\n",
    "        print(\"Somethings is wrong\")\n",
    "        \n",
    "    "
   ]
  }
 ],
 "metadata": {
  "kernelspec": {
   "display_name": "Python 3",
   "language": "python",
   "name": "python3"
  },
  "language_info": {
   "codemirror_mode": {
    "name": "ipython",
    "version": 3
   },
   "file_extension": ".py",
   "mimetype": "text/x-python",
   "name": "python",
   "nbconvert_exporter": "python",
   "pygments_lexer": "ipython3",
   "version": "3.6.4"
  }
 },
 "nbformat": 4,
 "nbformat_minor": 2
}
